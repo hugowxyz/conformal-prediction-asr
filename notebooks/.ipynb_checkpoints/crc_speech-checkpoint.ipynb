{
 "cells": [
  {
   "cell_type": "code",
   "execution_count": 102,
   "id": "314903f5",
   "metadata": {},
   "outputs": [],
   "source": [
    "import os\n",
    "import functools\n",
    "import numpy as np\n",
    "from scipy.optimize import brentq"
   ]
  },
  {
   "cell_type": "code",
   "execution_count": 77,
   "id": "ce4894a4",
   "metadata": {},
   "outputs": [],
   "source": [
    "root_data_path = os.path.join(\"..\", \"2023-12-04-HMI-dataset-predictions\")\n",
    "\n",
    "def load_data_paths(root_folder=root_data_path):\n",
    "    dataset = []\n",
    "    for folder in os.listdir(root_folder):\n",
    "        folder_path = os.path.join(root_folder, folder)\n",
    "        files = [os.path.join(folder_path, file) for file in os.listdir(folder_path)]\n",
    "        dataset.extend(files)\n",
    "    return dataset"
   ]
  },
  {
   "cell_type": "code",
   "execution_count": 78,
   "id": "9c5b9fd0",
   "metadata": {},
   "outputs": [],
   "source": [
    "def load_data(paths):\n",
    "    data = []\n",
    "    for path in paths:\n",
    "        with open(path, \"r\") as f:\n",
    "            lines = [line.strip() for line in f.readlines()]\n",
    "            data.append(lines)\n",
    "    return data\n",
    "\n",
    "def load_numeric_data(paths):\n",
    "    data = load_data(paths)\n",
    "    return np.array(data, dtype=float)"
   ]
  },
  {
   "cell_type": "code",
   "execution_count": 234,
   "id": "6f824161",
   "metadata": {},
   "outputs": [],
   "source": [
    "def load_paths(speakers=[], modifiers=[], root_folder=root_data_path):\n",
    "    datapaths, res = load_data_paths(root_folder), []\n",
    "    for path in datapaths:\n",
    "        speaker_filter = any(speaker in path for speaker in speakers) if speakers else True\n",
    "        modifier_filter = any(modifier in path for modifier in modifiers) if modifiers else True\n",
    "        if speaker_filter and modifier_filter:\n",
    "            res.append(path)\n",
    "    return res\n",
    "\n",
    "def load_datasets(speakers=[], modifiers=[], root_folder=root_data_path):\n",
    "    \"\"\"Load prediction paths for a specific speaker\"\"\"\n",
    "    data_paths = sorted(load_paths(speakers, modifiers, root_folder))\n",
    "    smx_paths = [path for path in data_paths if \"scores\" in path]\n",
    "    wers_paths = [path for path in data_paths if \"wer\" in path]\n",
    "    pred_paths = [path for path in data_paths if \"pred\" in path]\n",
    "    \n",
    "    smx = load_numeric_data(smx_paths)\n",
    "    wers = load_numeric_data(wers_paths)\n",
    "    preds = load_data(pred_paths)\n",
    "    \n",
    "    return smx, wers, preds"
   ]
  },
  {
   "cell_type": "code",
   "execution_count": 238,
   "id": "913dca28",
   "metadata": {},
   "outputs": [],
   "source": [
    "smx, wers, preds = load_datasets(speakers=[\"agtbv\"])"
   ]
  },
  {
   "cell_type": "code",
   "execution_count": 260,
   "id": "1d3a477a",
   "metadata": {},
   "outputs": [],
   "source": [
    "threshold = 0.05\n",
    "n = smx.shape[0]\n",
    "alpha = 0.95\n",
    "B = 1"
   ]
  },
  {
   "cell_type": "code",
   "execution_count": 225,
   "id": "37a01541",
   "metadata": {},
   "outputs": [],
   "source": [
    "def c_lam(lam, smx, wers):\n",
    "    \"\"\"Compute prediction set indexes using lambda\"\"\"\n",
    "    prefix_sums = np.cumsum(smx, axis=1)\n",
    "    threshold_indexes = np.zeros(prefix_sums.shape[0], dtype=int)\n",
    "    for idx, row in enumerate(prefix_sums):\n",
    "        threshold_idx = np.argmax(row >= lam)\n",
    "        threshold_indexes[idx] = threshold_idx if row[threshold_idx] >= lam else row.shape[0] - 1\n",
    "    return threshold_indexes"
   ]
  },
  {
   "cell_type": "code",
   "execution_count": 226,
   "id": "d8d0b2d9",
   "metadata": {},
   "outputs": [],
   "source": [
    "def wer_empirical_risk(word_error_rates, wer_target):\n",
    "    \"\"\"Compute the empirical risk using WER as loss function on the calibration data\"\"\"\n",
    "    loss = [int(np.all(w >= wer_target)) for w in word_error_rates]\n",
    "    return sum(loss)/len(loss)"
   ]
  },
  {
   "cell_type": "code",
   "execution_count": 244,
   "id": "0d8a3a52",
   "metadata": {},
   "outputs": [],
   "source": [
    "def crc_util(lam, smx, wers, wer_target):\n",
    "    \"\"\"Construct prediction set and compute empirical risk\"\"\"\n",
    "    idxs = c_lam(lam, smx, wers)\n",
    "    prediction_wers = []\n",
    "    for idx, threshold_idx in enumerate(idxs):\n",
    "        prediction_wers.append(wers[idx][:threshold_idx])\n",
    "    return wer_empirical_risk(prediction_wers, threshold)\n",
    "\n",
    "def conformal_risk_control(lam, smx, wers, wer_target):\n",
    "    \"\"\"Conformal Risk Control happens here\"\"\"\n",
    "    return crc_util(lam, smx, wers, wer_target) - ((n+1)/n*alpha - 1/(n+1))\n",
    "\n",
    "def compute_lamhat(smx, wers, wer_target):\n",
    "    \"\"\"Search for value of lambda that controls the WER\"\"\"\n",
    "    crc_partial = functools.partial(conformal_risk_control, smx=smx, wers=wers, wer_target=wer_target)\n",
    "    return brentq(crc_partial, 0, 1)"
   ]
  },
  {
   "cell_type": "code",
   "execution_count": 261,
   "id": "92a1fad4",
   "metadata": {},
   "outputs": [
    {
     "data": {
      "text/plain": [
       "0.027206686999896867"
      ]
     },
     "execution_count": 261,
     "metadata": {},
     "output_type": "execute_result"
    }
   ],
   "source": [
    "lam_hat = compute_lamhat(smx, wers, threshold)\n",
    "lam_hat"
   ]
  },
  {
   "cell_type": "code",
   "execution_count": 262,
   "id": "6724d560",
   "metadata": {},
   "outputs": [
    {
     "data": {
      "text/plain": [
       "0.9"
      ]
     },
     "execution_count": 262,
     "metadata": {},
     "output_type": "execute_result"
    }
   ],
   "source": [
    "smxh, wersh, predsh = load_datasets(speakers=[\"lgong\"], modifiers=[\"park\"])\n",
    "crc_util(lam_hat, smxh, wersh, threshold)"
   ]
  }
 ],
 "metadata": {
  "kernelspec": {
   "display_name": "cp-snips",
   "language": "python",
   "name": "cp-snips"
  },
  "language_info": {
   "codemirror_mode": {
    "name": "ipython",
    "version": 3
   },
   "file_extension": ".py",
   "mimetype": "text/x-python",
   "name": "python",
   "nbconvert_exporter": "python",
   "pygments_lexer": "ipython3",
   "version": "3.8.18"
  }
 },
 "nbformat": 4,
 "nbformat_minor": 5
}
