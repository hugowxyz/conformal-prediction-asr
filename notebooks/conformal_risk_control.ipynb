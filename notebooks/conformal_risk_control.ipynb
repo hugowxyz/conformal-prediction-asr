{
 "cells": [
  {
   "cell_type": "code",
   "execution_count": 71,
   "id": "ab04cdd5",
   "metadata": {},
   "outputs": [],
   "source": [
    "import os\n",
    "import numpy as np\n",
    "from scipy.optimize import brentq"
   ]
  },
  {
   "cell_type": "code",
   "execution_count": 72,
   "id": "d84682c7",
   "metadata": {},
   "outputs": [],
   "source": [
    "from typing import List, Tuple\n",
    "\n",
    "def load_dataset(root_folder: str) -> Tuple[List[str], int]:\n",
    "    folders = os.listdir(root_folder)\n",
    "    dataset = []\n",
    "    labels = []\n",
    "\n",
    "    for folder in folders:\n",
    "        folder_path = os.path.join(root_folder, folder)\n",
    "        files = os.listdir(folder_path)\n",
    "        files = [os.path.join(folder_path, file) for file in files]\n",
    "        dataset += files\n",
    "\n",
    "        for file in files:\n",
    "            filename = os.path.splitext(file)[0]\n",
    "            if filename.endswith(\"cafe\"):\n",
    "                labels.append(1)\n",
    "            elif filename.endswith(\"highway\"):\n",
    "                labels.append(2)\n",
    "            elif filename.endswith(\"park\"):\n",
    "                labels.append(3)\n",
    "            else:\n",
    "                labels.append(0)\n",
    "\n",
    "    return dataset, labels"
   ]
  },
  {
   "cell_type": "code",
   "execution_count": null,
   "id": "58f90aaa",
   "metadata": {},
   "outputs": [],
   "source": [
    "def softmax(x):\n",
    "    e_x = np.exp(x - np.max(x))\n",
    "    return e_x / e_x.sum(axis=0)\n",
    "\n",
    "ni, nj = 5, 50\n",
    "smx = np.array([softmax(np.random.rand(nj)) for _ in range(ni)])\n",
    "wers = np.array([np.random.uniform(0, 1, nj) for _ in range(ni)])\n",
    "predictions = [[f\"p-{i}-{j}\" for j in range(nj)] for i in range(ni)]"
   ]
  },
  {
   "cell_type": "code",
   "execution_count": 111,
   "id": "77ca5f0c",
   "metadata": {},
   "outputs": [],
   "source": [
    "# load the data\n",
    "\n",
    "def softmax(x):\n",
    "    e_x = np.exp(x - np.max(x))\n",
    "    return e_x / e_x.sum(axis=0)\n",
    "\n",
    "\"\"\"\n",
    "The idea is that for samples on the highway confidence scores are lower.\n",
    "No idea how to model the WERs.\n",
    "\n",
    "Calculate coverage and evaluation metrics.\n",
    "\"\"\"\n",
    "\n",
    "n, ny = 5, 50\n",
    "smx = [softmax(np.random.rand(ny)) for _ in range(n)]\n",
    "smx = np.array(smx)\n",
    "\n",
    "wers = [np.random.uniform(0, 1, ny) for _ in range(n)]\n",
    "wers = np.array(wers)\n",
    "\n",
    "predictions = [[f\"p-{i}-{j}\" for j in range(ny)] for i in range(n)]\n",
    "\n",
    "# dataset, _ = load_dataset(os.path.join(\"..\", \"2023-12-04-HMI-dataset-predictions\"))\n",
    "# folder = \"agtbv\"\n",
    "# dataset = [dpath for dpath in dataset if folder in dpath]"
   ]
  },
  {
   "cell_type": "code",
   "execution_count": 60,
   "id": "446000ba",
   "metadata": {},
   "outputs": [
    {
     "data": {
      "text/plain": [
       "(array([[0.01778398, 0.01458857, 0.0184689 , 0.02263611, 0.02352926],\n",
       "        [0.02743787, 0.01161716, 0.02112399, 0.01508731, 0.02618119],\n",
       "        [0.01526051, 0.0255717 , 0.01991466, 0.01638158, 0.01678866],\n",
       "        [0.02462466, 0.02264838, 0.01507506, 0.01186103, 0.02710688],\n",
       "        [0.0205059 , 0.01826211, 0.0137314 , 0.01283853, 0.01517562]]),\n",
       " array([[0.71652463, 0.61148397, 0.6692427 , 0.69128523, 0.11889995],\n",
       "        [0.6196207 , 0.51858121, 0.94043086, 0.63826918, 0.82467735],\n",
       "        [0.24589271, 0.51789722, 0.31534971, 0.11684404, 0.40450069],\n",
       "        [0.55923374, 0.97639261, 0.08754338, 0.80168132, 0.10012548],\n",
       "        [0.25402137, 0.16030538, 0.26100657, 0.57182727, 0.96858447]]))"
      ]
     },
     "execution_count": 60,
     "metadata": {},
     "output_type": "execute_result"
    }
   ],
   "source": [
    "smx[:, :5], wers[:, :5]"
   ]
  },
  {
   "cell_type": "code",
   "execution_count": 209,
   "id": "16d6d304",
   "metadata": {},
   "outputs": [],
   "source": [
    "# problem setup\n",
    "\n",
    "threshold = 0.9\n",
    "n = smx.shape[0]\n",
    "alpha = 0.5\n",
    "\n",
    "B = 1\n",
    "\n",
    "# define the loss function\n",
    "\n",
    "\"\"\"\n",
    "non increasing loss function\n",
    "plot loss function against lambda\n",
    "\"\"\"\n",
    "\n",
    "def loss_fn(word_error_rates):\n",
    "    arr = np.array([int(np.any(w < threshold)) for w in word_error_rates])\n",
    "    return arr.mean()"
   ]
  },
  {
   "cell_type": "code",
   "execution_count": 176,
   "id": "5c8e5c0e",
   "metadata": {},
   "outputs": [],
   "source": [
    "def lamhat_threshold(lam):\n",
    "    prefix_sums = np.cumsum(smx, axis=1)\n",
    "    indexes = np.argmin(prefix_sums < lam, axis=1) - 1\n",
    "\n",
    "    arr = []\n",
    "    for idx in range(wers.shape[0]):\n",
    "        if indexes[idx] == -1:\n",
    "            arr.append(np.array([]))\n",
    "        else:\n",
    "            arr.append(wers[idx][:indexes[idx]])\n",
    "\n",
    "    return loss_fn(arr) - ((n+1)/n*alpha - 1/(n+1))\n",
    "\n",
    "# brentq(lamhat_threshold, 0, 1)"
   ]
  },
  {
   "cell_type": "code",
   "execution_count": 177,
   "id": "382c9d5a",
   "metadata": {},
   "outputs": [],
   "source": [
    "def c_lam(lam, smx, wers):\n",
    "    \"\"\"Compute prediction set indexes using lambda\"\"\"\n",
    "    prefix_sums = np.cumsum(smx, axis=1)\n",
    "    threshold_indexes = np.zeros(prefix_sums.shape[0], dtype=int)\n",
    "    for idx, row in enumerate(prefix_sums):\n",
    "        threshold_idx = np.argmax(row >= lam)\n",
    "        threshold_indexes[idx] = threshold_idx if row[threshold_idx] >= lam else row.shape[0] - 1\n",
    "    return threshold_indexes"
   ]
  },
  {
   "cell_type": "code",
   "execution_count": 205,
   "id": "0560f8dd",
   "metadata": {},
   "outputs": [
    {
     "data": {
      "text/plain": [
       "[array([0.02637078, 0.29934512, 0.3284163 , 0.82811785]),\n",
       " array([0.71746224, 0.09669782, 0.39272025, 0.33300676]),\n",
       " array([0.67052465, 0.84633873, 0.42391286, 0.41769981, 0.34590247,\n",
       "        0.02240038]),\n",
       " array([0.87033042, 0.86609194, 0.01665355, 0.57454199]),\n",
       " array([0.98120339, 0.15572309, 0.11673318, 0.79118194, 0.93349786])]"
      ]
     },
     "execution_count": 205,
     "metadata": {},
     "output_type": "execute_result"
    }
   ],
   "source": [
    "# Use the computed indexes to construct prediction set\n",
    "\n",
    "idxs = c_lam(0.1, smx, wers)\n",
    "prediction_wers = []\n",
    "for idx, threshold_idx in enumerate(idxs):\n",
    "    prediction_wers.append(wers[idx][:threshold_idx])\n",
    "    \n",
    "prediction_wers"
   ]
  },
  {
   "cell_type": "code",
   "execution_count": 210,
   "id": "a4c209c1",
   "metadata": {},
   "outputs": [
    {
     "data": {
      "text/plain": [
       "1.0"
      ]
     },
     "execution_count": 210,
     "metadata": {},
     "output_type": "execute_result"
    }
   ],
   "source": [
    "def wer_empirical_risk(word_error_rates, wer_target):\n",
    "    \"\"\"Compute the empirical risk on the calibration data\"\"\"\n",
    "    loss = [int(np.all(w >= wer_target)) for w in word_error_rates]\n",
    "    return sum(loss)/len(loss)\n",
    "    \n",
    "idxs = c_lam(0.02, smx, wers)\n",
    "prediction_wers = []\n",
    "for idx, threshold_idx in enumerate(idxs):\n",
    "    prediction_wers.append(wers[idx][:threshold_idx])\n",
    "    \n",
    "wer_empirical_risk(prediction_wers, 0.1)"
   ]
  },
  {
   "cell_type": "code",
   "execution_count": 217,
   "id": "fe640063",
   "metadata": {},
   "outputs": [
    {
     "data": {
      "text/plain": [
       "0.025717707986041692"
      ]
     },
     "execution_count": 217,
     "metadata": {},
     "output_type": "execute_result"
    }
   ],
   "source": [
    "def conformal_risk_control(lam):\n",
    "    idxs = c_lam(lam, smx, wers)\n",
    "    prediction_wers = []\n",
    "    for idx, threshold_idx in enumerate(idxs):\n",
    "        prediction_wers.append(wers[idx][:threshold_idx])\n",
    "\n",
    "    return wer_empirical_risk(prediction_wers, threshold) - ((n+1)/n*alpha - 1/(n+1))\n",
    "\n",
    "def compute_lamhat(smx, wers):\n",
    "    \"\"\"Search for value of lambda that controls the WER\"\"\"\n",
    "    return brentq(conformal_risk_control, 0, 1)\n",
    "\n",
    "compute_lamhat(smx, wers)"
   ]
  },
  {
   "cell_type": "code",
   "execution_count": 218,
   "id": "67c596d8",
   "metadata": {},
   "outputs": [
    {
     "data": {
      "image/png": "[encoded data removed]",
      "text/plain": [
       "<Figure size 640x480 with 1 Axes>"
      ]
     },
     "metadata": {},
     "output_type": "display_data"
    }
   ],
   "source": [
    "import matplotlib.pyplot as plt\n",
    "\n",
    "# Generate x values at 0.1 intervals\n",
    "x_values = np.arange(0, 1.2, 0.1)\n",
    "\n",
    "# Compute y values using the function\n",
    "y_values = [conformal_risk_control(x) for x in x_values]\n",
    "\n",
    "# Plot the function\n",
    "plt.plot(x_values, y_values)\n",
    "plt.xlabel('lambda')\n",
    "plt.ylabel('lamhat_threshold(x)')\n",
    "plt.title('Plot of lamhat_threshold(x)')\n",
    "plt.grid(True)\n",
    "plt.show()"
   ]
  },
  {
   "cell_type": "code",
   "execution_count": 47,
   "id": "6e6c53e3",
   "metadata": {},
   "outputs": [
    {
     "data": {
      "text/plain": [
       "array([3, 3])"
      ]
     },
     "execution_count": 47,
     "metadata": {},
     "output_type": "execute_result"
    }
   ],
   "source": [
    "prefix_sums = np.cumsum(softmax_values, axis=1)\n",
    "a = prefix_sums < 0.1\n",
    "np.argmin(a, axis=1) - 1\n",
    "# wers_values[a]"
   ]
  },
  {
   "cell_type": "code",
   "execution_count": 28,
   "id": "f98fb760",
   "metadata": {},
   "outputs": [
    {
     "data": {
      "text/plain": [
       "0.02137353799857963"
      ]
     },
     "execution_count": 28,
     "metadata": {},
     "output_type": "execute_result"
    }
   ],
   "source": [
    "lamhat"
   ]
  }
 ],
 "metadata": {
  "kernelspec": {
   "display_name": "Python 3 (ipykernel)",
   "language": "python",
   "name": "python3"
  },
  "language_info": {
   "codemirror_mode": {
    "name": "ipython",
    "version": 3
   },
   "file_extension": ".py",
   "mimetype": "text/x-python",
   "name": "python",
   "nbconvert_exporter": "python",
   "pygments_lexer": "ipython3",
   "version": "3.10.12"
  }
 },
 "nbformat": 4,
 "nbformat_minor": 5
}
