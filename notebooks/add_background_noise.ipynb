{
 "cells": [
  {
   "cell_type": "code",
   "execution_count": 10,
   "id": "ef819d93",
   "metadata": {},
   "outputs": [],
   "source": [
    "from pydub import AudioSegment"
   ]
  },
  {
   "cell_type": "code",
   "execution_count": 20,
   "id": "27f9bac8",
   "metadata": {},
   "outputs": [
    {
     "data": {
      "text/plain": [
       "<_io.BufferedRandom name='modified-audio/cafe.wav'>"
      ]
     },
     "execution_count": 20,
     "metadata": {},
     "output_type": "execute_result"
    }
   ],
   "source": [
    "# Cafe\n",
    "main_audio_path = \"2023-12-04-HMI-dataset/agtbv/audio00.webm\"\n",
    "background_audio_path = \"background-noise/cafe.mp3\"\n",
    "output_audio_path = \"modified-audio/cafe.wav\"\n",
    "\n",
    "# Load the main audio file and the background audio file\n",
    "main_audio = AudioSegment.from_file(main_audio_path)\n",
    "background_audio = AudioSegment.from_file(background_audio_path)\n",
    "\n",
    "# increase by n dB\n",
    "background_audio += 10\n",
    "\n",
    "# Overlay the background audio onto the main audio\n",
    "final_audio = main_audio.overlay(background_audio)\n",
    "\n",
    "# Export the final audio with the superimposed background\n",
    "final_audio.export(output_audio_path, format=\"wav\")"
   ]
  },
  {
   "cell_type": "code",
   "execution_count": 23,
   "id": "47691c76",
   "metadata": {},
   "outputs": [
    {
     "data": {
      "text/plain": [
       "<_io.BufferedRandom name='modified-audio/highway.wav'>"
      ]
     },
     "execution_count": 23,
     "metadata": {},
     "output_type": "execute_result"
    }
   ],
   "source": [
    "# Highway\n",
    "\n",
    "main_audio_path = \"2023-12-04-HMI-dataset/agtbv/audio00.webm\"\n",
    "background_audio_path = \"background-noise/highway.mp3\"\n",
    "output_audio_path = \"modified-audio/highway.wav\"\n",
    "\n",
    "# Load the main audio file and the background audio file\n",
    "main_audio = AudioSegment.from_file(main_audio_path)\n",
    "background_audio = AudioSegment.from_file(background_audio_path)\n",
    "\n",
    "# increase by n dB\n",
    "background_audio += 10\n",
    "\n",
    "# Overlay the background audio onto the main audio\n",
    "final_audio = main_audio.overlay(background_audio)\n",
    "\n",
    "# Export the final audio with the superimposed background\n",
    "final_audio.export(output_audio_path, format=\"wav\")"
   ]
  },
  {
   "cell_type": "code",
   "execution_count": 22,
   "id": "a57da555",
   "metadata": {},
   "outputs": [
    {
     "data": {
      "text/plain": [
       "<_io.BufferedRandom name='modified-audio/park.wav'>"
      ]
     },
     "execution_count": 22,
     "metadata": {},
     "output_type": "execute_result"
    }
   ],
   "source": [
    "# Park\n",
    "\n",
    "main_audio_path = \"2023-12-04-HMI-dataset/agtbv/audio00.webm\"\n",
    "background_audio_path = \"background-noise/park.mp3\"\n",
    "output_audio_path = \"modified-audio/park.wav\"\n",
    "\n",
    "# Load the main audio file and the background audio file\n",
    "main_audio = AudioSegment.from_file(main_audio_path)\n",
    "background_audio = AudioSegment.from_file(background_audio_path)\n",
    "\n",
    "# increase by n dB\n",
    "background_audio += 10\n",
    "\n",
    "# Overlay the background audio onto the main audio\n",
    "final_audio = main_audio.overlay(background_audio)\n",
    "\n",
    "# Export the final audio with the superimposed background\n",
    "final_audio.export(output_audio_path, format=\"wav\")"
   ]
  }
 ],
 "metadata": {
  "kernelspec": {
   "display_name": "cp-snips",
   "language": "python",
   "name": "cp-snips"
  },
  "language_info": {
   "codemirror_mode": {
    "name": "ipython",
    "version": 3
   },
   "file_extension": ".py",
   "mimetype": "text/x-python",
   "name": "python",
   "nbconvert_exporter": "python",
   "pygments_lexer": "ipython3",
   "version": "3.8.18"
  }
 },
 "nbformat": 4,
 "nbformat_minor": 5
}
